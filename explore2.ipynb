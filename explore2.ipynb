{
 "cells": [
  {
   "cell_type": "code",
   "execution_count": 1,
   "id": "9b4be91e",
   "metadata": {},
   "outputs": [],
   "source": [
    "# Dataframe and numeric manipulations\n",
    "import pandas as pd\n",
    "import numpy as np\n",
    "\n",
    "# Visualizations\n",
    "import matplotlib.pyplot as plt\n",
    "import seaborn as sns\n",
    "\n",
    "# Display preferences\n",
    "pd.options.display.max_rows = 999"
   ]
  },
  {
   "cell_type": "code",
   "execution_count": 2,
   "id": "594964e7",
   "metadata": {},
   "outputs": [],
   "source": [
    "# Local module(s) to use\n",
    "import wrangle as w"
   ]
  },
  {
   "cell_type": "code",
   "execution_count": 3,
   "id": "4aabc9b3",
   "metadata": {},
   "outputs": [],
   "source": [
    "# Acquire and prepare (initially) the dataframe with our wrangle module\n",
    "df = w.wrangle_1033()"
   ]
  },
  {
   "cell_type": "code",
   "execution_count": null,
   "id": "cd6b0bd0",
   "metadata": {},
   "outputs": [],
   "source": []
  }
 ],
 "metadata": {
  "kernelspec": {
   "display_name": "Python 3 (ipykernel)",
   "language": "python",
   "name": "python3"
  },
  "language_info": {
   "codemirror_mode": {
    "name": "ipython",
    "version": 3
   },
   "file_extension": ".py",
   "mimetype": "text/x-python",
   "name": "python",
   "nbconvert_exporter": "python",
   "pygments_lexer": "ipython3",
   "version": "3.9.12"
  }
 },
 "nbformat": 4,
 "nbformat_minor": 5
}
