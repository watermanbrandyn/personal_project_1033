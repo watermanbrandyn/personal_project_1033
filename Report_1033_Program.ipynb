{
 "cells": [
  {
   "cell_type": "code",
   "execution_count": 1,
   "id": "2ff7804e",
   "metadata": {},
   "outputs": [],
   "source": [
    "# Dataframe and numeric manipulations\n",
    "import pandas as pd\n",
    "import numpy as np\n",
    "\n",
    "# Visualizations\n",
    "import matplotlib.pyplot as plt\n",
    "import seaborn as sns\n",
    "\n",
    "# Display preferences\n",
    "pd.options.display.max_rows = 999\n",
    "pd.set_option('display.float_format', str)"
   ]
  },
  {
   "cell_type": "code",
   "execution_count": 2,
   "id": "2682bdc3",
   "metadata": {},
   "outputs": [],
   "source": [
    "# Local module(s) to use\n",
    "import wrangle as w\n",
    "import explore as e"
   ]
  },
  {
   "cell_type": "markdown",
   "id": "ae40ab15",
   "metadata": {},
   "source": [
    "## Background on what the '1033 Program' is:\n",
    "The '1033 Program' origin (per the official Federal program site):\n",
    "\n",
    "*In the National Defense Authorization Act for fiscal years 1990 and 1991, Congress authorized the transfer of excess DoD property to federal, state and local law enforcement agencies. Congress later passed the NDAA for fiscal year 1997, which allows law enforcement agencies to acquire property for bona fide law enforcement purposes – particularly those associated with counter-drug and counter-terrorism activities. The program has been named in the press and elsewhere as the “1033 Program,” which refers to the numbered section of the 1997 NDAA that granted permanent authority to the Secretary of Defense to transfer defense material to federal, state and local law enforcement agencies.* \n",
    "\n",
    "The official site for this program: \n",
    "https://www.dla.mil/DispositionServices/Offers/Reutilization/LawEnforcement/PropertySearch.aspx\n",
    "\n",
    "For a wider, quick summation of how this program came to being such resources may be useful:\n",
    "- https://www.youtube.com/watch?v=60beeYMCmGI\n",
    "    - A Business Insider overview of the program from the founding programs to modern 'creation'/extensions\n",
    "- https://www.youtube.com/watch?v=8vr9UMepwU8\n",
    "    - A short BBC overview of the program in a modern context\n",
    "\n",
    "In short the US has a robust, well-established DoD to Police pipeline for military equipment. The US is, with intent, militarizing their Police departments with inconsistent oversight, irregular policy, and subdued transparency. \n",
    "\n",
    "However, as noted: **\"Other equipment, such as Weapons, Aircrafts, and Tactical Vehicles, are not issued online. These items are coordinated through LESO Commodity Leads and State Coordinators.\"**\n",
    "\n",
    "Yet, as any quick glance at the data shows the majority of items, in a monetary and quantitative sense, fall under these categories. **A lack of transparency surrounding this topic, the equipment itself, and the agencies involved seems to be intentional at both a federal and state level.**\n",
    "\n",
    "The data for this report was collected from this Kaggle source:\n",
    "https://www.kaggle.com/datasets/jpmiller/military-equipment-for-local-law-enforcement?select=dod_all_states.csv\n",
    "\n",
    "For a robust and ongoing exploration of this data please see (no affiliation to myself):\n",
    "https://project1033.org/"
   ]
  },
  {
   "cell_type": "markdown",
   "id": "26dbd297",
   "metadata": {},
   "source": [
    "## Wrangle: Acquisition/Prepare\n",
    "As previously stated this data was initially gathered from the above Kaggle webpage. It was largely already useable and only needed a few additional modifications. \n",
    "\n",
    "The preparation included handling the null values for *DEMIL_IC*, which was done by filling in 9910 values with '1'. This was done after inspecting the data for the most frequent value, but more importantly through research about the values themselves. The 1 value is largely the default value and since these are items that are being handled with intent it seemed a reasonable value to assign for our purposes. The other values are largely for specific demolition requirements or details and should be assigned already prior to the distribution of the equipment. You can see this explored in more depth in the workbooks provided.\n",
    "\n",
    "Additionally, needed datatypes were modified for the *DEMIL_IC* code from a float to an object type and the *Ship_Date* was changed to a datetime type and used for the indexing of the dataframe. \n",
    "\n",
    "A column *total_value* was created using the *Acquisition_Value* and *Quantity* columns to better represent the value of the transactions. "
   ]
  },
  {
   "cell_type": "code",
   "execution_count": 3,
   "id": "298e7478",
   "metadata": {},
   "outputs": [],
   "source": [
    "# Acquire and prepare (initially) the dataframe with our wrangle module\n",
    "df = w.wrangle_1033()"
   ]
  },
  {
   "cell_type": "code",
   "execution_count": 4,
   "id": "5abb66f0",
   "metadata": {},
   "outputs": [
    {
     "data": {
      "text/html": [
       "<div>\n",
       "<style scoped>\n",
       "    .dataframe tbody tr th:only-of-type {\n",
       "        vertical-align: middle;\n",
       "    }\n",
       "\n",
       "    .dataframe tbody tr th {\n",
       "        vertical-align: top;\n",
       "    }\n",
       "\n",
       "    .dataframe thead th {\n",
       "        text-align: right;\n",
       "    }\n",
       "</style>\n",
       "<table border=\"1\" class=\"dataframe\">\n",
       "  <thead>\n",
       "    <tr style=\"text-align: right;\">\n",
       "      <th></th>\n",
       "      <th>State</th>\n",
       "      <th>Agency_Name</th>\n",
       "      <th>NSN</th>\n",
       "      <th>Item_Name</th>\n",
       "      <th>Quantity</th>\n",
       "      <th>UI</th>\n",
       "      <th>Acquisition_Value</th>\n",
       "      <th>DEMIL_Code</th>\n",
       "      <th>DEMIL_IC</th>\n",
       "      <th>Ship_Date</th>\n",
       "      <th>total_value</th>\n",
       "    </tr>\n",
       "    <tr>\n",
       "      <th>Ship_Date</th>\n",
       "      <th></th>\n",
       "      <th></th>\n",
       "      <th></th>\n",
       "      <th></th>\n",
       "      <th></th>\n",
       "      <th></th>\n",
       "      <th></th>\n",
       "      <th></th>\n",
       "      <th></th>\n",
       "      <th></th>\n",
       "      <th></th>\n",
       "    </tr>\n",
       "  </thead>\n",
       "  <tbody>\n",
       "    <tr>\n",
       "      <th>1990-05-03</th>\n",
       "      <td>MT</td>\n",
       "      <td>HIGHWAY PATROL HELENA</td>\n",
       "      <td>1005-00-589-1271</td>\n",
       "      <td>RIFLE,7.62 MILLIMETER</td>\n",
       "      <td>1</td>\n",
       "      <td>Each</td>\n",
       "      <td>138.0</td>\n",
       "      <td>D</td>\n",
       "      <td>1</td>\n",
       "      <td>1990-05-03</td>\n",
       "      <td>138.0</td>\n",
       "    </tr>\n",
       "    <tr>\n",
       "      <th>1990-05-03</th>\n",
       "      <td>MT</td>\n",
       "      <td>HIGHWAY PATROL HELENA</td>\n",
       "      <td>1005-00-589-1271</td>\n",
       "      <td>RIFLE,7.62 MILLIMETER</td>\n",
       "      <td>1</td>\n",
       "      <td>Each</td>\n",
       "      <td>138.0</td>\n",
       "      <td>D</td>\n",
       "      <td>1</td>\n",
       "      <td>1990-05-03</td>\n",
       "      <td>138.0</td>\n",
       "    </tr>\n",
       "    <tr>\n",
       "      <th>1990-05-03</th>\n",
       "      <td>MT</td>\n",
       "      <td>HIGHWAY PATROL HELENA</td>\n",
       "      <td>1005-00-589-1271</td>\n",
       "      <td>RIFLE,7.62 MILLIMETER</td>\n",
       "      <td>1</td>\n",
       "      <td>Each</td>\n",
       "      <td>138.0</td>\n",
       "      <td>D</td>\n",
       "      <td>1</td>\n",
       "      <td>1990-05-03</td>\n",
       "      <td>138.0</td>\n",
       "    </tr>\n",
       "    <tr>\n",
       "      <th>1990-05-03</th>\n",
       "      <td>MT</td>\n",
       "      <td>HIGHWAY PATROL HELENA</td>\n",
       "      <td>1005-00-589-1271</td>\n",
       "      <td>RIFLE,7.62 MILLIMETER</td>\n",
       "      <td>1</td>\n",
       "      <td>Each</td>\n",
       "      <td>138.0</td>\n",
       "      <td>D</td>\n",
       "      <td>1</td>\n",
       "      <td>1990-05-03</td>\n",
       "      <td>138.0</td>\n",
       "    </tr>\n",
       "    <tr>\n",
       "      <th>1990-05-03</th>\n",
       "      <td>MT</td>\n",
       "      <td>HIGHWAY PATROL HELENA</td>\n",
       "      <td>1005-00-589-1271</td>\n",
       "      <td>RIFLE,7.62 MILLIMETER</td>\n",
       "      <td>1</td>\n",
       "      <td>Each</td>\n",
       "      <td>138.0</td>\n",
       "      <td>D</td>\n",
       "      <td>1</td>\n",
       "      <td>1990-05-03</td>\n",
       "      <td>138.0</td>\n",
       "    </tr>\n",
       "  </tbody>\n",
       "</table>\n",
       "</div>"
      ],
      "text/plain": [
       "           State            Agency_Name               NSN  \\\n",
       "Ship_Date                                                   \n",
       "1990-05-03    MT  HIGHWAY PATROL HELENA  1005-00-589-1271   \n",
       "1990-05-03    MT  HIGHWAY PATROL HELENA  1005-00-589-1271   \n",
       "1990-05-03    MT  HIGHWAY PATROL HELENA  1005-00-589-1271   \n",
       "1990-05-03    MT  HIGHWAY PATROL HELENA  1005-00-589-1271   \n",
       "1990-05-03    MT  HIGHWAY PATROL HELENA  1005-00-589-1271   \n",
       "\n",
       "                        Item_Name  Quantity    UI  Acquisition_Value  \\\n",
       "Ship_Date                                                              \n",
       "1990-05-03  RIFLE,7.62 MILLIMETER         1  Each              138.0   \n",
       "1990-05-03  RIFLE,7.62 MILLIMETER         1  Each              138.0   \n",
       "1990-05-03  RIFLE,7.62 MILLIMETER         1  Each              138.0   \n",
       "1990-05-03  RIFLE,7.62 MILLIMETER         1  Each              138.0   \n",
       "1990-05-03  RIFLE,7.62 MILLIMETER         1  Each              138.0   \n",
       "\n",
       "           DEMIL_Code DEMIL_IC  Ship_Date  total_value  \n",
       "Ship_Date                                               \n",
       "1990-05-03          D        1 1990-05-03        138.0  \n",
       "1990-05-03          D        1 1990-05-03        138.0  \n",
       "1990-05-03          D        1 1990-05-03        138.0  \n",
       "1990-05-03          D        1 1990-05-03        138.0  \n",
       "1990-05-03          D        1 1990-05-03        138.0  "
      ]
     },
     "execution_count": 4,
     "metadata": {},
     "output_type": "execute_result"
    }
   ],
   "source": [
    "# Quick glance at what the dataframe structure and information is\n",
    "df.head()"
   ]
  },
  {
   "cell_type": "markdown",
   "id": "7ea94d66",
   "metadata": {},
   "source": [
    "## Exploration (w/ Initial Questions):"
   ]
  },
  {
   "cell_type": "markdown",
   "id": "cf44cf80",
   "metadata": {},
   "source": [
    "### Question: What is the overall distribution of equipment?\n",
    "For the dataframe the main target variable will be considered *total_value* but *Quantity* is still worth consideration"
   ]
  },
  {
   "cell_type": "code",
   "execution_count": 5,
   "id": "c26711bb",
   "metadata": {},
   "outputs": [],
   "source": [
    "# Our target variable\n",
    "y = df.total_value"
   ]
  },
  {
   "cell_type": "code",
   "execution_count": 6,
   "id": "b952a5eb",
   "metadata": {},
   "outputs": [
    {
     "data": {
      "image/png": "[encoded data removed]",
      "text/plain": [
       "<Figure size 936x432 with 1 Axes>"
      ]
     },
     "metadata": {
      "needs_background": "light"
     },
     "output_type": "display_data"
    }
   ],
   "source": [
    "# Giving a visualization of the Yearly Total Acquisition of equipment by value\n",
    "e.yearly_viz(df, y)"
   ]
  },
  {
   "cell_type": "code",
   "execution_count": 7,
   "id": "d5710486",
   "metadata": {},
   "outputs": [
    {
     "data": {
      "text/plain": [
       "1899669153.4699998"
      ]
     },
     "execution_count": 7,
     "metadata": {},
     "output_type": "execute_result"
    }
   ],
   "source": [
    "# Looking at the total distribution of equipment (in value) from the dataset. Almost 2 billion in total. \n",
    "df.total_value.sum()"
   ]
  },
  {
   "cell_type": "code",
   "execution_count": 8,
   "id": "5fec0d38",
   "metadata": {},
   "outputs": [
    {
     "data": {
      "image/png": "[encoded data removed]",
      "text/plain": [
       "<Figure size 936x432 with 1 Axes>"
      ]
     },
     "metadata": {
      "needs_background": "light"
     },
     "output_type": "display_data"
    }
   ],
   "source": [
    "# Giving a visualizatino of the Yearly Total Acquisition of equipment by quantity \n",
    "e.quantity_viz(df)"
   ]
  },
  {
   "cell_type": "code",
   "execution_count": 9,
   "id": "2d7456c4",
   "metadata": {},
   "outputs": [
    {
     "data": {
      "text/plain": [
       "547434"
      ]
     },
     "execution_count": 9,
     "metadata": {},
     "output_type": "execute_result"
    }
   ],
   "source": [
    "# Looking at the total distribution of equipment (in quantity) from the dataset. ~550,000 units\n",
    "df.Quantity.sum()"
   ]
  },
  {
   "cell_type": "markdown",
   "id": "60547993",
   "metadata": {},
   "source": [
    "### Question: What States/Regions are acquiring the most equipment? \n"
   ]
  },
  {
   "cell_type": "code",
   "execution_count": 10,
   "id": "0cd87644",
   "metadata": {},
   "outputs": [
    {
     "data": {
      "text/plain": [
       "State\n",
       "TX   154744237.13\n",
       "CA   154561125.85\n",
       "TN   134388805.89\n",
       "Name: total_value, dtype: float64"
      ]
     },
     "execution_count": 10,
     "metadata": {},
     "output_type": "execute_result"
    }
   ],
   "source": [
    "# The top acquisition in value by State\n",
    "df.groupby('State').total_value.sum().sort_values(ascending=False).head(3)"
   ]
  },
  {
   "cell_type": "markdown",
   "id": "67438de6",
   "metadata": {},
   "source": [
    "The top three States for acquisition are Texas, California, and Tennessee."
   ]
  },
  {
   "cell_type": "code",
   "execution_count": 11,
   "id": "176655c8",
   "metadata": {},
   "outputs": [
    {
     "data": {
      "image/png": "[encoded data removed]",
      "text/plain": [
       "<Figure size 648x360 with 1 Axes>"
      ]
     },
     "metadata": {
      "needs_background": "light"
     },
     "output_type": "display_data"
    },
    {
     "data": {
      "image/png": "[encoded data removed]",
      "text/plain": [
       "<Figure size 648x360 with 1 Axes>"
      ]
     },
     "metadata": {
      "needs_background": "light"
     },
     "output_type": "display_data"
    },
    {
     "data": {
      "image/png": "[encoded data removed]",
      "text/plain": [
       "<Figure size 648x360 with 1 Axes>"
      ]
     },
     "metadata": {
      "needs_background": "light"
     },
     "output_type": "display_data"
    }
   ],
   "source": [
    "e.top_three(df)"
   ]
  },
  {
   "cell_type": "markdown",
   "id": "6dbc0a4a",
   "metadata": {},
   "source": [
    "### Question: What equipment is being acquired the most?"
   ]
  },
  {
   "cell_type": "code",
   "execution_count": 12,
   "id": "c22e3974",
   "metadata": {},
   "outputs": [
    {
     "data": {
      "text/plain": [
       "RIFLE,5.56 MILLIMETER                      46843\n",
       "RIFLE,7.62 MILLIMETER                      11146\n",
       "SIGHT,REFLEX                               10899\n",
       "PISTOL,CALIBER .45,AUTOMATIC                5664\n",
       "TRUCK,UTILITY                               2634\n",
       "ILLUMINATOR,INFRARED                        1954\n",
       "NIGHT VISION GOGGLE                         1861\n",
       "IMAGE INTENSIFIER,NIGHT VISION              1822\n",
       "VIEWER,NIGHT VISION                         1517\n",
       "SIGHT,THERMAL                               1339\n",
       "SIGHT,NIGHT VISION SNIPERSCOPE              1213\n",
       "SHOTGUN,12 GAGE,RIOT TYPE                   1192\n",
       "MINE RESISTANT VEHICLE                      1141\n",
       "MAGAZINE,CARTRIDGE                          1048\n",
       "PISTOL, 40CAL, GLOCK GEN 3                   980\n",
       "ILLUMINATOR,INTEGRATED,SMALL ARMS            835\n",
       "UNMANNED VEHICLE,GROUND                      812\n",
       "NIGHT VISION EQUIP, EMIT, REFLECTED RAD      485\n",
       "BINOCULAR                                    433\n",
       "OPTICAL SIGHTING AND RANGING EQUIPMENT       431\n",
       "TELESCOPE,STRAIGHT                           404\n",
       "SIGHT,HOLOGRAPHIC                            403\n",
       "FIRING DEVICE,NON-LETHAL                     394\n",
       "SIGHT,BORE,OPTICAL                           378\n",
       "SIGHT,REAR                                   374\n",
       "Name: Item_Name, dtype: int64"
      ]
     },
     "execution_count": 12,
     "metadata": {},
     "output_type": "execute_result"
    }
   ],
   "source": [
    "# Total count by Item_Name\n",
    "df.Item_Name.value_counts().head(25)"
   ]
  },
  {
   "cell_type": "markdown",
   "id": "d7a5efd6",
   "metadata": {},
   "source": [
    "The most frequent acquisition is for Arms and accessories for them."
   ]
  },
  {
   "cell_type": "markdown",
   "id": "792817b4",
   "metadata": {},
   "source": [
    "### Question: What agencies are acquiring the most equipment? "
   ]
  },
  {
   "cell_type": "code",
   "execution_count": 13,
   "id": "c3c2fd97",
   "metadata": {},
   "outputs": [
    {
     "data": {
      "text/plain": [
       "State  Agency_Name                        \n",
       "CA     TEHAMA CSO                             1402\n",
       "SC     LAW ENFORCEMENT DIVISION               1177\n",
       "MI     OAKLAND COUNTY  SHERIFF OFFICE         1147\n",
       "OH     STATE HWY PATROL                       1033\n",
       "CA     LOS ANGELES POLICE DEPARTMENT           924\n",
       "AZ     ARIZONA DEPT OF PUBLIC SAFETY           696\n",
       "TX     AUSTIN POLICE DEPT                      628\n",
       "AL     TUSCALOOSA POLICE DEPT                  595\n",
       "SC     BEAUFORT COUNTY SHERIFF'S OFFICE        559\n",
       "CA     KERN COUNTY SHERIFF OFFICE              556\n",
       "KY     STATE POLICE                            529\n",
       "CA     VENTURA COUNTY SHERIFF OFFICE           498\n",
       "AZ     MESA POLICE DEPT                        476\n",
       "TX     PARKS AND WILDLIFE DEPT                 463\n",
       "CA     LOS ANGELES CSD                         423\n",
       "       SANTA BARBARA COUNTY SHERIFF OFFICE     418\n",
       "TX     HOUSTON POLICE DEPT                     413\n",
       "IL     CHICAGO POLICE DEPARTMENT               408\n",
       "CA     ORANGE COUNTY SHERIFFS DEPT             371\n",
       "TN     KNOX COUNTY SHERIFF'S OFFICE            359\n",
       "MN     SHERBURNE COUNTY SHERIFF'S OFFICE       358\n",
       "OH     COLUMBUS DIVISON OF POLICE              350\n",
       "CA     SACRAMENTO POLICE DEPT                  339\n",
       "IA     DNR DES MOINES                          311\n",
       "MN     COTTAGE GROVE PD                        295\n",
       "Name: Agency_Name, dtype: int64"
      ]
     },
     "execution_count": 13,
     "metadata": {},
     "output_type": "execute_result"
    }
   ],
   "source": [
    "# The top 25 Agencies that are making acquisitions by frequency\n",
    "df.groupby('State').Agency_Name.value_counts().sort_values(ascending=False).head(25)"
   ]
  },
  {
   "cell_type": "markdown",
   "id": "673378a2",
   "metadata": {},
   "source": [
    "### Question: Inside each State/Region what was the highest value acquisition? "
   ]
  },
  {
   "cell_type": "code",
   "execution_count": 14,
   "id": "0f0f64f2",
   "metadata": {},
   "outputs": [
    {
     "data": {
      "text/html": [
       "<div>\n",
       "<style scoped>\n",
       "    .dataframe tbody tr th:only-of-type {\n",
       "        vertical-align: middle;\n",
       "    }\n",
       "\n",
       "    .dataframe tbody tr th {\n",
       "        vertical-align: top;\n",
       "    }\n",
       "\n",
       "    .dataframe thead th {\n",
       "        text-align: right;\n",
       "    }\n",
       "</style>\n",
       "<table border=\"1\" class=\"dataframe\">\n",
       "  <thead>\n",
       "    <tr style=\"text-align: right;\">\n",
       "      <th></th>\n",
       "      <th>Agency_Name</th>\n",
       "      <th>total_value</th>\n",
       "      <th>Item_Name</th>\n",
       "      <th>Quantity</th>\n",
       "    </tr>\n",
       "    <tr>\n",
       "      <th>State</th>\n",
       "      <th></th>\n",
       "      <th></th>\n",
       "      <th></th>\n",
       "      <th></th>\n",
       "    </tr>\n",
       "  </thead>\n",
       "  <tbody>\n",
       "    <tr>\n",
       "      <th>CA</th>\n",
       "      <td>YUBA COUNTY SHERIFF'S OFFICE</td>\n",
       "      <td>22000000.0</td>\n",
       "      <td>YOKE ASSY,TAIL ROTO</td>\n",
       "      <td>2980</td>\n",
       "    </tr>\n",
       "    <tr>\n",
       "      <th>AZ</th>\n",
       "      <td>YUMA POLICE DEPT</td>\n",
       "      <td>17000000.0</td>\n",
       "      <td>YOKE ASSY,MAIN ROTO</td>\n",
       "      <td>2004</td>\n",
       "    </tr>\n",
       "    <tr>\n",
       "      <th>FL</th>\n",
       "      <td>WINTER PARK POLICE DEPT</td>\n",
       "      <td>17000000.0</td>\n",
       "      <td>YOKE ASSY,TAIL ROTO</td>\n",
       "      <td>800</td>\n",
       "    </tr>\n",
       "    <tr>\n",
       "      <th>OH</th>\n",
       "      <td>YOUNGSTOWN STATE UNIV PD ACAD HI_ED</td>\n",
       "      <td>7120400.0</td>\n",
       "      <td>WRENCH,TORQUE</td>\n",
       "      <td>2860</td>\n",
       "    </tr>\n",
       "    <tr>\n",
       "      <th>NV</th>\n",
       "      <td>YERINGTON POLICE DEPT</td>\n",
       "      <td>5711920.0</td>\n",
       "      <td>YOKE,TAIL ROTOR</td>\n",
       "      <td>75</td>\n",
       "    </tr>\n",
       "    <tr>\n",
       "      <th>TX</th>\n",
       "      <td>ZAVALA COUNTY SHERIFF'S OFFICE</td>\n",
       "      <td>5390000.0</td>\n",
       "      <td>YOKE ASSY,TAIL ROTO</td>\n",
       "      <td>1000</td>\n",
       "    </tr>\n",
       "    <tr>\n",
       "      <th>TN</th>\n",
       "      <td>WILSON COUNTY SHERIFF'S OFFICE</td>\n",
       "      <td>5000000.0</td>\n",
       "      <td>YOKE ASSY,TAIL ROTO</td>\n",
       "      <td>1800</td>\n",
       "    </tr>\n",
       "    <tr>\n",
       "      <th>IN</th>\n",
       "      <td>WOODBURN POLICE DEPT</td>\n",
       "      <td>5000000.0</td>\n",
       "      <td>YOKE,RIVETER</td>\n",
       "      <td>316</td>\n",
       "    </tr>\n",
       "    <tr>\n",
       "      <th>KY</th>\n",
       "      <td>WORTHINGTON POLICE DEPARTMENT</td>\n",
       "      <td>3100000.0</td>\n",
       "      <td>X-RAY EQUIP, SUPPLIES: MED, DENTAL, VET</td>\n",
       "      <td>774</td>\n",
       "    </tr>\n",
       "    <tr>\n",
       "      <th>NC</th>\n",
       "      <td>YANCEY COUNTY SHERIFF'S OFFICE</td>\n",
       "      <td>1713576.0</td>\n",
       "      <td>YOKE,PYLON</td>\n",
       "      <td>300</td>\n",
       "    </tr>\n",
       "    <tr>\n",
       "      <th>NJ</th>\n",
       "      <td>WYCKOFF POLICE DEPT</td>\n",
       "      <td>1470000.0</td>\n",
       "      <td>X-RAY APPARATUS,RADIOGRAPHIC,INDUSTRIAL</td>\n",
       "      <td>300</td>\n",
       "    </tr>\n",
       "    <tr>\n",
       "      <th>AL</th>\n",
       "      <td>WINSTON COUNTY SHERIFF DEPT</td>\n",
       "      <td>1400000.0</td>\n",
       "      <td>YOKE,PYLON</td>\n",
       "      <td>1472</td>\n",
       "    </tr>\n",
       "    <tr>\n",
       "      <th>OK</th>\n",
       "      <td>YUKON POLICE DEPT.</td>\n",
       "      <td>1309299.0</td>\n",
       "      <td>WINDOW,VEHICULAR</td>\n",
       "      <td>100</td>\n",
       "    </tr>\n",
       "    <tr>\n",
       "      <th>SC</th>\n",
       "      <td>YORK TECH. COLLEGE PS HI_ED</td>\n",
       "      <td>1060000.0</td>\n",
       "      <td>ZBV MILITARY TRAILER</td>\n",
       "      <td>637</td>\n",
       "    </tr>\n",
       "    <tr>\n",
       "      <th>IL</th>\n",
       "      <td>ZEIGLER POLICE DEPT</td>\n",
       "      <td>975000.0</td>\n",
       "      <td>WRENCH,IMPACT,ELECTRIC</td>\n",
       "      <td>200</td>\n",
       "    </tr>\n",
       "    <tr>\n",
       "      <th>GA</th>\n",
       "      <td>WORTH COUNTY SHERIFF'S OFFICE</td>\n",
       "      <td>950000.0</td>\n",
       "      <td>X-RAY APPARATUS,RADIOGRAPHIC,INDUSTRIAL</td>\n",
       "      <td>5000</td>\n",
       "    </tr>\n",
       "    <tr>\n",
       "      <th>NH</th>\n",
       "      <td>WATERVILLE VALLEY POLICE DEPT</td>\n",
       "      <td>950000.0</td>\n",
       "      <td>WEAPONS SYS SPECIFIC VEHICULAR ACCES</td>\n",
       "      <td>83</td>\n",
       "    </tr>\n",
       "    <tr>\n",
       "      <th>ND</th>\n",
       "      <td>WILLIAMS COUNTY SHERIFF OFFICE</td>\n",
       "      <td>950000.0</td>\n",
       "      <td>VIEWER,NIGHT VISION</td>\n",
       "      <td>100</td>\n",
       "    </tr>\n",
       "    <tr>\n",
       "      <th>LA</th>\n",
       "      <td>YOUNGSVILLE POLICE DEPT</td>\n",
       "      <td>948158.0</td>\n",
       "      <td>WIRING HARNESS,FLEX</td>\n",
       "      <td>100</td>\n",
       "    </tr>\n",
       "    <tr>\n",
       "      <th>WA</th>\n",
       "      <td>ZILLAH POLICE DEPARTMENT</td>\n",
       "      <td>922704.0</td>\n",
       "      <td>WRENCH,STRAP</td>\n",
       "      <td>930</td>\n",
       "    </tr>\n",
       "    <tr>\n",
       "      <th>MI</th>\n",
       "      <td>ZILWAUKEE CITY POLICE DEPT</td>\n",
       "      <td>922704.0</td>\n",
       "      <td>ZOLL AED</td>\n",
       "      <td>330</td>\n",
       "    </tr>\n",
       "    <tr>\n",
       "      <th>NM</th>\n",
       "      <td>VILLAGE OF HATCH POLICE DEPT</td>\n",
       "      <td>922704.0</td>\n",
       "      <td>WINDOW,VEHICULAR</td>\n",
       "      <td>300</td>\n",
       "    </tr>\n",
       "    <tr>\n",
       "      <th>CT</th>\n",
       "      <td>WOODBURY POLICE DEPT</td>\n",
       "      <td>922704.0</td>\n",
       "      <td>YOKE,BUFFER RETAINING</td>\n",
       "      <td>100</td>\n",
       "    </tr>\n",
       "    <tr>\n",
       "      <th>NY</th>\n",
       "      <td>WYOMING COUNTY SHERIFF DEPT</td>\n",
       "      <td>922704.0</td>\n",
       "      <td>WRENCH,TORQUE</td>\n",
       "      <td>425</td>\n",
       "    </tr>\n",
       "    <tr>\n",
       "      <th>PA</th>\n",
       "      <td>WOODWARD TOWNSHIP POLICE DEPT</td>\n",
       "      <td>865000.0</td>\n",
       "      <td>WRENCH,PLIER</td>\n",
       "      <td>1000</td>\n",
       "    </tr>\n",
       "    <tr>\n",
       "      <th>SD</th>\n",
       "      <td>ZIEBACH COUNTY SHERIFF OFFICE</td>\n",
       "      <td>865000.0</td>\n",
       "      <td>WINDOW,VEHICULAR</td>\n",
       "      <td>81</td>\n",
       "    </tr>\n",
       "    <tr>\n",
       "      <th>MS</th>\n",
       "      <td>TUTWILER POLICE DEPT</td>\n",
       "      <td>865000.0</td>\n",
       "      <td>WRENCH SET,COMBINATION BOX AND OPEN END</td>\n",
       "      <td>40</td>\n",
       "    </tr>\n",
       "    <tr>\n",
       "      <th>WI</th>\n",
       "      <td>WOODRUFF POLICE DEPT</td>\n",
       "      <td>865000.0</td>\n",
       "      <td>WRENCH,TORQUE,ELECTRONIC</td>\n",
       "      <td>200</td>\n",
       "    </tr>\n",
       "    <tr>\n",
       "      <th>AR</th>\n",
       "      <td>WHITE COUNTY SHERIFF DEPT</td>\n",
       "      <td>865000.0</td>\n",
       "      <td>WRENCH,BOX AND OPEN END,COMBINATION</td>\n",
       "      <td>1000</td>\n",
       "    </tr>\n",
       "    <tr>\n",
       "      <th>CO</th>\n",
       "      <td>YUMA POLICE DEPARTMENT</td>\n",
       "      <td>865000.0</td>\n",
       "      <td>WRENCH,TORQUE</td>\n",
       "      <td>538</td>\n",
       "    </tr>\n",
       "    <tr>\n",
       "      <th>MN</th>\n",
       "      <td>WYOMING POLICE DEPT</td>\n",
       "      <td>865000.0</td>\n",
       "      <td>WRENCH,TORQUE</td>\n",
       "      <td>350</td>\n",
       "    </tr>\n",
       "    <tr>\n",
       "      <th>MD</th>\n",
       "      <td>WORCESTER COUNTY SHERIFF DEPT</td>\n",
       "      <td>865000.0</td>\n",
       "      <td>WINDOW PANEL,AIRCRAFT</td>\n",
       "      <td>659</td>\n",
       "    </tr>\n",
       "    <tr>\n",
       "      <th>WV</th>\n",
       "      <td>WOOD COUNTY SHERIFF'S OFFICE</td>\n",
       "      <td>833400.0</td>\n",
       "      <td>WINCHES, HOISTS, CRANES, AND DERRICKS</td>\n",
       "      <td>208</td>\n",
       "    </tr>\n",
       "    <tr>\n",
       "      <th>ID</th>\n",
       "      <td>WEISER POLICE DEPT</td>\n",
       "      <td>800865.0</td>\n",
       "      <td>WEAPON ACCESSORIES</td>\n",
       "      <td>558</td>\n",
       "    </tr>\n",
       "    <tr>\n",
       "      <th>VA</th>\n",
       "      <td>WISE COUNTY SHERIFF OFFICE</td>\n",
       "      <td>767360.0</td>\n",
       "      <td>WRENCH,PIPE</td>\n",
       "      <td>141</td>\n",
       "    </tr>\n",
       "    <tr>\n",
       "      <th>OR</th>\n",
       "      <td>WHEELER CTY SHERIFF DEPT</td>\n",
       "      <td>767360.0</td>\n",
       "      <td>WHEEL,PNEUMATIC TIRE</td>\n",
       "      <td>404</td>\n",
       "    </tr>\n",
       "    <tr>\n",
       "      <th>MA</th>\n",
       "      <td>WORCESTER POLICE DEPT</td>\n",
       "      <td>767360.0</td>\n",
       "      <td>WEAPON ACCESSORIES</td>\n",
       "      <td>200</td>\n",
       "    </tr>\n",
       "    <tr>\n",
       "      <th>NE</th>\n",
       "      <td>YORK COUNTY SHERIFFS OFFICE</td>\n",
       "      <td>767360.0</td>\n",
       "      <td>WRENCH,TORQUE</td>\n",
       "      <td>80</td>\n",
       "    </tr>\n",
       "    <tr>\n",
       "      <th>MO</th>\n",
       "      <td>WRIGHT COUNTY SHERIFF OFFICE</td>\n",
       "      <td>767360.0</td>\n",
       "      <td>WRENCH,TORQUE</td>\n",
       "      <td>600</td>\n",
       "    </tr>\n",
       "    <tr>\n",
       "      <th>IA</th>\n",
       "      <td>WILLIAMSBURG POLICE DEPT</td>\n",
       "      <td>733000.0</td>\n",
       "      <td>WEAPON PARTS</td>\n",
       "      <td>484</td>\n",
       "    </tr>\n",
       "    <tr>\n",
       "      <th>KS</th>\n",
       "      <td>WYANDOTTE COUNTY SHERIFF OFFICE</td>\n",
       "      <td>733000.0</td>\n",
       "      <td>WINDOW,VEHICULAR</td>\n",
       "      <td>50</td>\n",
       "    </tr>\n",
       "    <tr>\n",
       "      <th>UT</th>\n",
       "      <td>WILLARD CITY POLICE DEPT</td>\n",
       "      <td>733000.0</td>\n",
       "      <td>VISOR,BODY ARMOR HELMET</td>\n",
       "      <td>226</td>\n",
       "    </tr>\n",
       "    <tr>\n",
       "      <th>WY</th>\n",
       "      <td>WESTON COUNTY SHERIFF'S OFFICE</td>\n",
       "      <td>733000.0</td>\n",
       "      <td>TRUCK,UTILITY</td>\n",
       "      <td>8</td>\n",
       "    </tr>\n",
       "    <tr>\n",
       "      <th>AK</th>\n",
       "      <td>NORTH POLE POLICE DEPT</td>\n",
       "      <td>689000.0</td>\n",
       "      <td>WELDING, SOLDERING, BRAZING FLUX</td>\n",
       "      <td>698</td>\n",
       "    </tr>\n",
       "    <tr>\n",
       "      <th>ME</th>\n",
       "      <td>YORK COUNTY SHERIFF OFFICE</td>\n",
       "      <td>689000.0</td>\n",
       "      <td>XMSMCOVER LIFT PLA</td>\n",
       "      <td>396</td>\n",
       "    </tr>\n",
       "    <tr>\n",
       "      <th>MT</th>\n",
       "      <td>YELLOWSTONE COUNTY SHERIFF OFFICE</td>\n",
       "      <td>689000.0</td>\n",
       "      <td>WIRED HOUSING ASSEMBLY</td>\n",
       "      <td>75</td>\n",
       "    </tr>\n",
       "    <tr>\n",
       "      <th>VT</th>\n",
       "      <td>WINDHAM COUNTY SHERIFF DEPT</td>\n",
       "      <td>658000.0</td>\n",
       "      <td>TRUCK,UTILITY</td>\n",
       "      <td>23</td>\n",
       "    </tr>\n",
       "    <tr>\n",
       "      <th>PR</th>\n",
       "      <td>VILLALBA MUNICIPAL POLICE</td>\n",
       "      <td>500102.0</td>\n",
       "      <td>WARDROBE</td>\n",
       "      <td>63</td>\n",
       "    </tr>\n",
       "    <tr>\n",
       "      <th>MP</th>\n",
       "      <td>CNMI DEPARTMENT OF PUBLIC SAFETY</td>\n",
       "      <td>460000.0</td>\n",
       "      <td>RIFLE,5.56 MILLIMETER</td>\n",
       "      <td>1</td>\n",
       "    </tr>\n",
       "    <tr>\n",
       "      <th>RI</th>\n",
       "      <td>WOONSOCKET POLICE DEPT</td>\n",
       "      <td>335160.0</td>\n",
       "      <td>WINDOW,VEHICULAR</td>\n",
       "      <td>131</td>\n",
       "    </tr>\n",
       "    <tr>\n",
       "      <th>DE</th>\n",
       "      <td>STATE POLICE</td>\n",
       "      <td>184333.0</td>\n",
       "      <td>WEAPONS MAINTENANCE AND REPAIR</td>\n",
       "      <td>150</td>\n",
       "    </tr>\n",
       "    <tr>\n",
       "      <th>GU</th>\n",
       "      <td>PORT AUTHORITY OF GUAM POLICE</td>\n",
       "      <td>102280.0</td>\n",
       "      <td>WIRE ROPE ASSEMBLY,SINGLE LEG</td>\n",
       "      <td>100</td>\n",
       "    </tr>\n",
       "    <tr>\n",
       "      <th>VI</th>\n",
       "      <td>VIRGIN ISLANDS POLICE DEPT</td>\n",
       "      <td>138.0</td>\n",
       "      <td>RIFLE,7.62 MILLIMETER</td>\n",
       "      <td>1</td>\n",
       "    </tr>\n",
       "  </tbody>\n",
       "</table>\n",
       "</div>"
      ],
      "text/plain": [
       "                               Agency_Name  total_value  \\\n",
       "State                                                     \n",
       "CA            YUBA COUNTY SHERIFF'S OFFICE   22000000.0   \n",
       "AZ                        YUMA POLICE DEPT   17000000.0   \n",
       "FL                 WINTER PARK POLICE DEPT   17000000.0   \n",
       "OH     YOUNGSTOWN STATE UNIV PD ACAD HI_ED    7120400.0   \n",
       "NV                   YERINGTON POLICE DEPT    5711920.0   \n",
       "TX          ZAVALA COUNTY SHERIFF'S OFFICE    5390000.0   \n",
       "TN          WILSON COUNTY SHERIFF'S OFFICE    5000000.0   \n",
       "IN                    WOODBURN POLICE DEPT    5000000.0   \n",
       "KY           WORTHINGTON POLICE DEPARTMENT    3100000.0   \n",
       "NC          YANCEY COUNTY SHERIFF'S OFFICE    1713576.0   \n",
       "NJ                     WYCKOFF POLICE DEPT    1470000.0   \n",
       "AL             WINSTON COUNTY SHERIFF DEPT    1400000.0   \n",
       "OK                      YUKON POLICE DEPT.    1309299.0   \n",
       "SC             YORK TECH. COLLEGE PS HI_ED    1060000.0   \n",
       "IL                     ZEIGLER POLICE DEPT     975000.0   \n",
       "GA           WORTH COUNTY SHERIFF'S OFFICE     950000.0   \n",
       "NH           WATERVILLE VALLEY POLICE DEPT     950000.0   \n",
       "ND          WILLIAMS COUNTY SHERIFF OFFICE     950000.0   \n",
       "LA                 YOUNGSVILLE POLICE DEPT     948158.0   \n",
       "WA                ZILLAH POLICE DEPARTMENT     922704.0   \n",
       "MI     ZILWAUKEE CITY POLICE DEPT              922704.0   \n",
       "NM            VILLAGE OF HATCH POLICE DEPT     922704.0   \n",
       "CT                    WOODBURY POLICE DEPT     922704.0   \n",
       "NY     WYOMING COUNTY SHERIFF DEPT             922704.0   \n",
       "PA           WOODWARD TOWNSHIP POLICE DEPT     865000.0   \n",
       "SD           ZIEBACH COUNTY SHERIFF OFFICE     865000.0   \n",
       "MS                    TUTWILER POLICE DEPT     865000.0   \n",
       "WI                    WOODRUFF POLICE DEPT     865000.0   \n",
       "AR               WHITE COUNTY SHERIFF DEPT     865000.0   \n",
       "CO                  YUMA POLICE DEPARTMENT     865000.0   \n",
       "MN                     WYOMING POLICE DEPT     865000.0   \n",
       "MD     WORCESTER COUNTY SHERIFF DEPT           865000.0   \n",
       "WV            WOOD COUNTY SHERIFF'S OFFICE     833400.0   \n",
       "ID     WEISER POLICE DEPT                      800865.0   \n",
       "VA              WISE COUNTY SHERIFF OFFICE     767360.0   \n",
       "OR                WHEELER CTY SHERIFF DEPT     767360.0   \n",
       "MA                   WORCESTER POLICE DEPT     767360.0   \n",
       "NE             YORK COUNTY SHERIFFS OFFICE     767360.0   \n",
       "MO            WRIGHT COUNTY SHERIFF OFFICE     767360.0   \n",
       "IA     WILLIAMSBURG POLICE DEPT                733000.0   \n",
       "KS         WYANDOTTE COUNTY SHERIFF OFFICE     733000.0   \n",
       "UT                WILLARD CITY POLICE DEPT     733000.0   \n",
       "WY          WESTON COUNTY SHERIFF'S OFFICE     733000.0   \n",
       "AK                  NORTH POLE POLICE DEPT     689000.0   \n",
       "ME              YORK COUNTY SHERIFF OFFICE     689000.0   \n",
       "MT       YELLOWSTONE COUNTY SHERIFF OFFICE     689000.0   \n",
       "VT             WINDHAM COUNTY SHERIFF DEPT     658000.0   \n",
       "PR               VILLALBA MUNICIPAL POLICE     500102.0   \n",
       "MP        CNMI DEPARTMENT OF PUBLIC SAFETY     460000.0   \n",
       "RI     WOONSOCKET POLICE DEPT                  335160.0   \n",
       "DE                            STATE POLICE     184333.0   \n",
       "GU           PORT AUTHORITY OF GUAM POLICE     102280.0   \n",
       "VI              VIRGIN ISLANDS POLICE DEPT        138.0   \n",
       "\n",
       "                                     Item_Name  Quantity  \n",
       "State                                                     \n",
       "CA                         YOKE ASSY,TAIL ROTO      2980  \n",
       "AZ                         YOKE ASSY,MAIN ROTO      2004  \n",
       "FL                         YOKE ASSY,TAIL ROTO       800  \n",
       "OH                               WRENCH,TORQUE      2860  \n",
       "NV                         YOKE,TAIL ROTOR            75  \n",
       "TX                         YOKE ASSY,TAIL ROTO      1000  \n",
       "TN                         YOKE ASSY,TAIL ROTO      1800  \n",
       "IN                         YOKE,RIVETER              316  \n",
       "KY     X-RAY EQUIP, SUPPLIES: MED, DENTAL, VET       774  \n",
       "NC                         YOKE,PYLON                300  \n",
       "NJ     X-RAY APPARATUS,RADIOGRAPHIC,INDUSTRIAL       300  \n",
       "AL                         YOKE,PYLON               1472  \n",
       "OK                            WINDOW,VEHICULAR       100  \n",
       "SC                        ZBV MILITARY TRAILER       637  \n",
       "IL                      WRENCH,IMPACT,ELECTRIC       200  \n",
       "GA     X-RAY APPARATUS,RADIOGRAPHIC,INDUSTRIAL      5000  \n",
       "NH        WEAPONS SYS SPECIFIC VEHICULAR ACCES        83  \n",
       "ND                         VIEWER,NIGHT VISION       100  \n",
       "LA                         WIRING HARNESS,FLEX       100  \n",
       "WA                                WRENCH,STRAP       930  \n",
       "MI                                    ZOLL AED       330  \n",
       "NM                            WINDOW,VEHICULAR       300  \n",
       "CT                       YOKE,BUFFER RETAINING       100  \n",
       "NY                               WRENCH,TORQUE       425  \n",
       "PA                                WRENCH,PLIER      1000  \n",
       "SD                            WINDOW,VEHICULAR        81  \n",
       "MS     WRENCH SET,COMBINATION BOX AND OPEN END        40  \n",
       "WI                    WRENCH,TORQUE,ELECTRONIC       200  \n",
       "AR         WRENCH,BOX AND OPEN END,COMBINATION      1000  \n",
       "CO                               WRENCH,TORQUE       538  \n",
       "MN                               WRENCH,TORQUE       350  \n",
       "MD                       WINDOW PANEL,AIRCRAFT       659  \n",
       "WV       WINCHES, HOISTS, CRANES, AND DERRICKS       208  \n",
       "ID                          WEAPON ACCESSORIES       558  \n",
       "VA                                 WRENCH,PIPE       141  \n",
       "OR                        WHEEL,PNEUMATIC TIRE       404  \n",
       "MA                          WEAPON ACCESSORIES       200  \n",
       "NE                               WRENCH,TORQUE        80  \n",
       "MO                               WRENCH,TORQUE       600  \n",
       "IA                                WEAPON PARTS       484  \n",
       "KS                            WINDOW,VEHICULAR        50  \n",
       "UT                     VISOR,BODY ARMOR HELMET       226  \n",
       "WY                               TRUCK,UTILITY         8  \n",
       "AK            WELDING, SOLDERING, BRAZING FLUX       698  \n",
       "ME                         XMSMCOVER LIFT PLA        396  \n",
       "MT                      WIRED HOUSING ASSEMBLY        75  \n",
       "VT                               TRUCK,UTILITY        23  \n",
       "PR                                    WARDROBE        63  \n",
       "MP                       RIFLE,5.56 MILLIMETER         1  \n",
       "RI                            WINDOW,VEHICULAR       131  \n",
       "DE              WEAPONS MAINTENANCE AND REPAIR       150  \n",
       "GU               WIRE ROPE ASSEMBLY,SINGLE LEG       100  \n",
       "VI                       RIFLE,7.62 MILLIMETER         1  "
      ]
     },
     "execution_count": 14,
     "metadata": {},
     "output_type": "execute_result"
    }
   ],
   "source": [
    "# The top acquisition within each State/Region\n",
    "df.groupby('State')[['Agency_Name', 'total_value', 'Item_Name', 'Quantity']].agg('max').sort_values(by='total_value', ascending=False)"
   ]
  },
  {
   "cell_type": "markdown",
   "id": "8bc65199",
   "metadata": {},
   "source": [
    "### Question: Is there mostly an overlap for timelines of acquisition by State/Region?"
   ]
  },
  {
   "cell_type": "markdown",
   "id": "0674a29f",
   "metadata": {},
   "source": [
    "Taking the top 150 Acquisitions by State/Region and graphing them on top of one another to see where the acquisition timelines align. The majority of the acquisitions fall between 2010 and 2017, as verified through additional exploration (that can be seen in the workbooks). "
   ]
  },
  {
   "cell_type": "code",
   "execution_count": 15,
   "id": "d017b688",
   "metadata": {},
   "outputs": [
    {
     "data": {
      "image/png": "[encoded data removed]",
      "text/plain": [
       "<Figure size 432x288 with 1 Axes>"
      ]
     },
     "metadata": {
      "needs_background": "light"
     },
     "output_type": "display_data"
    }
   ],
   "source": [
    "# The overlap visualization for each State/Region top 150 Acquisitions\n",
    "e.overlap_viz(df)"
   ]
  },
  {
   "cell_type": "markdown",
   "id": "b4be5080",
   "metadata": {},
   "source": [
    "### Question: What is the breakdown of some key categories (Guns, Vehicles, Planes)?"
   ]
  },
  {
   "cell_type": "markdown",
   "id": "754b2951",
   "metadata": {},
   "source": [
    "A rudimentary search for some keywords provides a general idea of how many of each category were acquired: (These are rough estimates and not exact)"
   ]
  },
  {
   "cell_type": "code",
   "execution_count": 16,
   "id": "5c6b4d77",
   "metadata": {},
   "outputs": [
    {
     "data": {
      "text/plain": [
       "84846"
      ]
     },
     "execution_count": 16,
     "metadata": {},
     "output_type": "execute_result"
    }
   ],
   "source": [
    "# Number of Guns and gun accessories by frequent naming\n",
    "len(df[df['Item_Name'].str.contains('RIFLE|SIGHT|PISTOL|SHOTGUN|MAGAZINE|BARREL|REVOLVER|CARTRIDGE|SUPPRESSOR')])"
   ]
  },
  {
   "cell_type": "code",
   "execution_count": 17,
   "id": "258cfb9e",
   "metadata": {},
   "outputs": [
    {
     "data": {
      "text/plain": [
       "6519"
      ]
     },
     "execution_count": 17,
     "metadata": {},
     "output_type": "execute_result"
    }
   ],
   "source": [
    "# Number of vehicles by frequent naming\n",
    "len(df[df['Item_Name'].str.contains('TRUCK|VEHICLE|VEHICLES')])"
   ]
  },
  {
   "cell_type": "code",
   "execution_count": 18,
   "id": "b65ca39b",
   "metadata": {},
   "outputs": [
    {
     "data": {
      "text/plain": [
       "762"
      ]
     },
     "execution_count": 18,
     "metadata": {},
     "output_type": "execute_result"
    }
   ],
   "source": [
    "# Number of helicopters/planes by frequent naming\n",
    "len(df[df['Item_Name'].str.contains('HELICOPTER|AIRCRAFT')])"
   ]
  },
  {
   "cell_type": "markdown",
   "id": "2e6c6a33",
   "metadata": {},
   "source": [
    "### Question: Is the distribution proactive or reactive? (Federal push or Regional request)"
   ]
  },
  {
   "cell_type": "markdown",
   "id": "b0d0dcb0",
   "metadata": {},
   "source": [
    "A method to test this involved seeing the range between a unique Item's ship dates. The idea was to see how many items had 0 days between their appearance in the dataset. If an item had 0 days it would appear that it was sent out all at once from the supplies at the Federal level. \n",
    "\n",
    "This produced a list of approximately 49% of the items in the dataset with 52% of the items having less than a month range. However, upon deeper consideration and investigation the vast majority of these items only appear in the dataset once. \n",
    "\n",
    "As a result the ability to conclude whether this is a 'push' endeavor from the Federal level (which brings to question the intent of the program) or a 'pull' from regional sources is inconclusive. I do not feel comfortable making a conclusion that the Federal level is 'pushing' their stock if these numbers could indicate something else (that a lot of the items in the dataset are unique instances of that item). \n",
    "\n",
    "The work for this can be seen in the explore_1033 workbook."
   ]
  },
  {
   "cell_type": "markdown",
   "id": "60b45009",
   "metadata": {},
   "source": [
    "### Question: Which States/Regions have higher average acquisitions? \n",
    "For this question a One-Sample t-test was conducted for each State/Region. \n",
    "\n",
    "- The H0: The mean of {State} acquisitions = the mean of all acquisitions.\n",
    "- The HA: The mean of {State} acquisitions > the mean of all acquisitions. \n",
    "\n",
    "Since this is testing for a greater value it is a one-tailed t-test and thus the returned t-value needed to be above 0. Every State/Region that is shown to be statistically significant returns a statement indicating this."
   ]
  },
  {
   "cell_type": "code",
   "execution_count": 19,
   "id": "e489d456",
   "metadata": {},
   "outputs": [
    {
     "name": "stdout",
     "output_type": "stream",
     "text": [
      "The average acquisition by total_value: 14506.052776636427\n",
      "\n",
      "We reject the null hypothesis. MS mean of acquisitions is > than the mean of all acquisitions.\n",
      "We reject the null hypothesis. NY mean of acquisitions is > than the mean of all acquisitions.\n",
      "We reject the null hypothesis. TX mean of acquisitions is > than the mean of all acquisitions.\n",
      "We reject the null hypothesis. OR mean of acquisitions is > than the mean of all acquisitions.\n",
      "We reject the null hypothesis. NC mean of acquisitions is > than the mean of all acquisitions.\n",
      "We reject the null hypothesis. NM mean of acquisitions is > than the mean of all acquisitions.\n",
      "We reject the null hypothesis. WA mean of acquisitions is > than the mean of all acquisitions.\n",
      "We reject the null hypothesis. NE mean of acquisitions is > than the mean of all acquisitions.\n",
      "We reject the null hypothesis. FL mean of acquisitions is > than the mean of all acquisitions.\n",
      "We reject the null hypothesis. NV mean of acquisitions is > than the mean of all acquisitions.\n",
      "We reject the null hypothesis. TN mean of acquisitions is > than the mean of all acquisitions.\n",
      "We reject the null hypothesis. PR mean of acquisitions is > than the mean of all acquisitions.\n"
     ]
    }
   ],
   "source": [
    "# Testing each State/Region for statistical significance of average acquisition by total_value\n",
    "e.ttest_by_State(df)"
   ]
  },
  {
   "cell_type": "markdown",
   "id": "1aa0b21e",
   "metadata": {},
   "source": [
    "In total 12 of the 53 State/Region identifiers show a higher average acquisition value than the total average. "
   ]
  },
  {
   "cell_type": "code",
   "execution_count": null,
   "id": "550cee48",
   "metadata": {},
   "outputs": [],
   "source": []
  }
 ],
 "metadata": {
  "kernelspec": {
   "display_name": "Python 3 (ipykernel)",
   "language": "python",
   "name": "python3"
  },
  "language_info": {
   "codemirror_mode": {
    "name": "ipython",
    "version": 3
   },
   "file_extension": ".py",
   "mimetype": "text/x-python",
   "name": "python",
   "nbconvert_exporter": "python",
   "pygments_lexer": "ipython3",
   "version": "3.9.12"
  }
 },
 "nbformat": 4,
 "nbformat_minor": 5
}
