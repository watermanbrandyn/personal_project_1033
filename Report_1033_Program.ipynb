{
 "cells": [
  {
   "cell_type": "code",
   "execution_count": 1,
   "id": "4b405aac",
   "metadata": {},
   "outputs": [],
   "source": [
    "# Dataframe and numeric manipulations\n",
    "import pandas as pd\n",
    "import numpy as np\n",
    "\n",
    "# Visualizations\n",
    "import matplotlib.pyplot as plt\n",
    "import seaborn as sns\n",
    "\n",
    "# Display preferences\n",
    "pd.options.display.max_rows = 999\n",
    "pd.set_option('display.float_format', str)"
   ]
  },
  {
   "cell_type": "code",
   "execution_count": 2,
   "id": "2b4a03ad",
   "metadata": {},
   "outputs": [],
   "source": [
    "# Local module(s) to use\n",
    "import wrangle as w\n",
    "import explore as e"
   ]
  },
  {
   "cell_type": "markdown",
   "id": "d53d46a9",
   "metadata": {},
   "source": [
    "## Background on what the '1033 Program' is:\n",
    "The '1033 Program' origin (per the official Federal program site):\n",
    "\n",
    "*In the National Defense Authorization Act for fiscal years 1990 and 1991, Congress authorized the transfer of excess DoD property to federal, state and local law enforcement agencies. Congress later passed the NDAA for fiscal year 1997, which allows law enforcement agencies to acquire property for bona fide law enforcement purposes – particularly those associated with counter-drug and counter-terrorism activities. The program has been named in the press and elsewhere as the “1033 Program,” which refers to the numbered section of the 1997 NDAA that granted permanent authority to the Secretary of Defense to transfer defense material to federal, state and local law enforcement agencies.* \n",
    "\n",
    "The official site for this program: \n",
    "https://www.dla.mil/DispositionServices/Offers/Reutilization/LawEnforcement/PropertySearch.aspx\n",
    "\n",
    "For a wider, quick summation of how this program came to being such resources may be useful:\n",
    "- https://www.youtube.com/watch?v=60beeYMCmGI\n",
    "    - A Business Insider overview of the program from the founding programs to modern 'creation'/extensions\n",
    "- https://www.youtube.com/watch?v=8vr9UMepwU8\n",
    "    - A short BBC overview of the program in a modern context\n",
    "\n",
    "In short the US has a robust, well-established DoD to Police pipeline for military equipment. The US is, with intent, militarizing their Police departments with inconsistent oversight, irregular policy, and subdued transparency. \n",
    "\n",
    "However, as noted: **\"Other equipment, such as Weapons, Aircrafts, and Tactical Vehicles, are not issued online. These items are coordinated through LESO Commodity Leads and State Coordinators.\"**\n",
    "\n",
    "Yet, as any quick glance at the data shows the majority of items, in a monetary and quantitative sense, fall under these categories. **A lack of transparency surrounding this topic, the equipment itself, and the agencies involved seems to be intentional at both a federal and state level.**\n",
    "\n",
    "The data for this report was collected from this Kaggle source:\n",
    "https://www.kaggle.com/datasets/jpmiller/military-equipment-for-local-law-enforcement?select=dod_all_states.csv\n",
    "\n",
    "For a robust and ongoing exploration of this data please see (no affiliation to myself):\n",
    "https://project1033.org/"
   ]
  },
  {
   "cell_type": "markdown",
   "id": "5849dc4c",
   "metadata": {},
   "source": [
    "## Wrangle: Acquisition/Prepare\n",
    "As previously stated this data was initially gathered from the above Kaggle webpage. It was largely already useable and only needed a few additional modifications. \n",
    "\n",
    "The preparation included handling the null values for *DEMIL_IC*, which was done by filling in 9910 values with '1'. This was done after inspecting the data for the most frequent value, but more importantly through research about the values themselves. The 1 value is largely the default value and since these are items that are being handled with intent it seemed a reasonable value to assign for our purposes. The other values are largely for specific demolition requirements or details and should be assigned already prior to the distribution of the equipment. \n",
    "\n",
    "Additionally, needed datatypes were modified for the *DEMIL_IC* code from a float to an object type and the *Ship_Date* was changed to a datetime type and used for the indexing of the dataframe. \n",
    "\n",
    "A column *total_value* was created using the *Acquisition_Value* and *Quantity* columns to better represent the value of the transactions. "
   ]
  },
  {
   "cell_type": "code",
   "execution_count": 3,
   "id": "5f1e988f",
   "metadata": {},
   "outputs": [],
   "source": [
    "# Acquire and prepare (initially) the dataframe with our wrangle module\n",
    "df = w.wrangle_1033()"
   ]
  },
  {
   "cell_type": "code",
   "execution_count": 4,
   "id": "af1ee6de",
   "metadata": {},
   "outputs": [
    {
     "data": {
      "text/html": [
       "<div>\n",
       "<style scoped>\n",
       "    .dataframe tbody tr th:only-of-type {\n",
       "        vertical-align: middle;\n",
       "    }\n",
       "\n",
       "    .dataframe tbody tr th {\n",
       "        vertical-align: top;\n",
       "    }\n",
       "\n",
       "    .dataframe thead th {\n",
       "        text-align: right;\n",
       "    }\n",
       "</style>\n",
       "<table border=\"1\" class=\"dataframe\">\n",
       "  <thead>\n",
       "    <tr style=\"text-align: right;\">\n",
       "      <th></th>\n",
       "      <th>State</th>\n",
       "      <th>Agency_Name</th>\n",
       "      <th>NSN</th>\n",
       "      <th>Item_Name</th>\n",
       "      <th>Quantity</th>\n",
       "      <th>UI</th>\n",
       "      <th>Acquisition_Value</th>\n",
       "      <th>DEMIL_Code</th>\n",
       "      <th>DEMIL_IC</th>\n",
       "      <th>Ship_Date</th>\n",
       "      <th>total_value</th>\n",
       "    </tr>\n",
       "    <tr>\n",
       "      <th>Ship_Date</th>\n",
       "      <th></th>\n",
       "      <th></th>\n",
       "      <th></th>\n",
       "      <th></th>\n",
       "      <th></th>\n",
       "      <th></th>\n",
       "      <th></th>\n",
       "      <th></th>\n",
       "      <th></th>\n",
       "      <th></th>\n",
       "      <th></th>\n",
       "    </tr>\n",
       "  </thead>\n",
       "  <tbody>\n",
       "    <tr>\n",
       "      <th>1990-05-03</th>\n",
       "      <td>MT</td>\n",
       "      <td>HIGHWAY PATROL HELENA</td>\n",
       "      <td>1005-00-589-1271</td>\n",
       "      <td>RIFLE,7.62 MILLIMETER</td>\n",
       "      <td>1</td>\n",
       "      <td>Each</td>\n",
       "      <td>138.0</td>\n",
       "      <td>D</td>\n",
       "      <td>1</td>\n",
       "      <td>1990-05-03</td>\n",
       "      <td>138.0</td>\n",
       "    </tr>\n",
       "    <tr>\n",
       "      <th>1990-05-03</th>\n",
       "      <td>MT</td>\n",
       "      <td>HIGHWAY PATROL HELENA</td>\n",
       "      <td>1005-00-589-1271</td>\n",
       "      <td>RIFLE,7.62 MILLIMETER</td>\n",
       "      <td>1</td>\n",
       "      <td>Each</td>\n",
       "      <td>138.0</td>\n",
       "      <td>D</td>\n",
       "      <td>1</td>\n",
       "      <td>1990-05-03</td>\n",
       "      <td>138.0</td>\n",
       "    </tr>\n",
       "    <tr>\n",
       "      <th>1990-05-03</th>\n",
       "      <td>MT</td>\n",
       "      <td>HIGHWAY PATROL HELENA</td>\n",
       "      <td>1005-00-589-1271</td>\n",
       "      <td>RIFLE,7.62 MILLIMETER</td>\n",
       "      <td>1</td>\n",
       "      <td>Each</td>\n",
       "      <td>138.0</td>\n",
       "      <td>D</td>\n",
       "      <td>1</td>\n",
       "      <td>1990-05-03</td>\n",
       "      <td>138.0</td>\n",
       "    </tr>\n",
       "    <tr>\n",
       "      <th>1990-05-03</th>\n",
       "      <td>MT</td>\n",
       "      <td>HIGHWAY PATROL HELENA</td>\n",
       "      <td>1005-00-589-1271</td>\n",
       "      <td>RIFLE,7.62 MILLIMETER</td>\n",
       "      <td>1</td>\n",
       "      <td>Each</td>\n",
       "      <td>138.0</td>\n",
       "      <td>D</td>\n",
       "      <td>1</td>\n",
       "      <td>1990-05-03</td>\n",
       "      <td>138.0</td>\n",
       "    </tr>\n",
       "    <tr>\n",
       "      <th>1990-05-03</th>\n",
       "      <td>MT</td>\n",
       "      <td>HIGHWAY PATROL HELENA</td>\n",
       "      <td>1005-00-589-1271</td>\n",
       "      <td>RIFLE,7.62 MILLIMETER</td>\n",
       "      <td>1</td>\n",
       "      <td>Each</td>\n",
       "      <td>138.0</td>\n",
       "      <td>D</td>\n",
       "      <td>1</td>\n",
       "      <td>1990-05-03</td>\n",
       "      <td>138.0</td>\n",
       "    </tr>\n",
       "  </tbody>\n",
       "</table>\n",
       "</div>"
      ],
      "text/plain": [
       "           State            Agency_Name               NSN  \\\n",
       "Ship_Date                                                   \n",
       "1990-05-03    MT  HIGHWAY PATROL HELENA  1005-00-589-1271   \n",
       "1990-05-03    MT  HIGHWAY PATROL HELENA  1005-00-589-1271   \n",
       "1990-05-03    MT  HIGHWAY PATROL HELENA  1005-00-589-1271   \n",
       "1990-05-03    MT  HIGHWAY PATROL HELENA  1005-00-589-1271   \n",
       "1990-05-03    MT  HIGHWAY PATROL HELENA  1005-00-589-1271   \n",
       "\n",
       "                        Item_Name  Quantity    UI  Acquisition_Value  \\\n",
       "Ship_Date                                                              \n",
       "1990-05-03  RIFLE,7.62 MILLIMETER         1  Each              138.0   \n",
       "1990-05-03  RIFLE,7.62 MILLIMETER         1  Each              138.0   \n",
       "1990-05-03  RIFLE,7.62 MILLIMETER         1  Each              138.0   \n",
       "1990-05-03  RIFLE,7.62 MILLIMETER         1  Each              138.0   \n",
       "1990-05-03  RIFLE,7.62 MILLIMETER         1  Each              138.0   \n",
       "\n",
       "           DEMIL_Code DEMIL_IC  Ship_Date  total_value  \n",
       "Ship_Date                                               \n",
       "1990-05-03          D        1 1990-05-03        138.0  \n",
       "1990-05-03          D        1 1990-05-03        138.0  \n",
       "1990-05-03          D        1 1990-05-03        138.0  \n",
       "1990-05-03          D        1 1990-05-03        138.0  \n",
       "1990-05-03          D        1 1990-05-03        138.0  "
      ]
     },
     "execution_count": 4,
     "metadata": {},
     "output_type": "execute_result"
    }
   ],
   "source": [
    "# Quick glance at what the dataframe structure and information is\n",
    "df.head()"
   ]
  },
  {
   "cell_type": "markdown",
   "id": "930fd2be",
   "metadata": {},
   "source": [
    "## Exploration (Initial Questions included):"
   ]
  },
  {
   "cell_type": "markdown",
   "id": "1a59c999",
   "metadata": {},
   "source": [
    "### Question: What is the overall distribution of equipment?\n",
    "For the dataframe the main target variable will be considered *total_value*"
   ]
  },
  {
   "cell_type": "code",
   "execution_count": 5,
   "id": "497e4b68",
   "metadata": {},
   "outputs": [],
   "source": [
    "# Our target variable\n",
    "y = df.total_value"
   ]
  },
  {
   "cell_type": "code",
   "execution_count": 8,
   "id": "b5416e8d",
   "metadata": {},
   "outputs": [
    {
     "data": {
      "image/png": "[encoded data removed]",
      "text/plain": [
       "<Figure size 936x432 with 1 Axes>"
      ]
     },
     "metadata": {
      "needs_background": "light"
     },
     "output_type": "display_data"
    }
   ],
   "source": [
    "# Giving a visualization of the Yearly Total Acquisition of equipment\n",
    "e.yearly_viz(df, y)"
   ]
  },
  {
   "cell_type": "code",
   "execution_count": 9,
   "id": "9fe4fbdb",
   "metadata": {},
   "outputs": [
    {
     "data": {
      "text/plain": [
       "1899669153.4699998"
      ]
     },
     "execution_count": 9,
     "metadata": {},
     "output_type": "execute_result"
    }
   ],
   "source": [
    "df.total_value.sum()"
   ]
  },
  {
   "cell_type": "code",
   "execution_count": null,
   "id": "9da07e6d",
   "metadata": {},
   "outputs": [],
   "source": []
  }
 ],
 "metadata": {
  "kernelspec": {
   "display_name": "Python 3 (ipykernel)",
   "language": "python",
   "name": "python3"
  },
  "language_info": {
   "codemirror_mode": {
    "name": "ipython",
    "version": 3
   },
   "file_extension": ".py",
   "mimetype": "text/x-python",
   "name": "python",
   "nbconvert_exporter": "python",
   "pygments_lexer": "ipython3",
   "version": "3.9.12"
  }
 },
 "nbformat": 4,
 "nbformat_minor": 5
}
